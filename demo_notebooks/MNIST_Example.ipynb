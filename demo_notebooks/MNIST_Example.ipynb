{
 "cells": [
  {
   "cell_type": "markdown",
   "metadata": {},
   "source": [
    "# Imports\n"
   ]
  },
  {
   "cell_type": "code",
   "execution_count": 1,
   "metadata": {},
   "outputs": [
    {
     "name": "stdout",
     "output_type": "stream",
     "text": [
      "Torch Version: 1.4.0\n"
     ]
    }
   ],
   "source": [
    "import numpy as np # linear algebra\n",
    "import pandas as pd # data processing, CSV file I/O (e.g. pd.read_csv)\n",
    "\n",
    "import torch\n",
    "import numpy as np\n",
    "print(\"Torch Version:\",torch.__version__)\n",
    "from torch import nn\n",
    "import torch.nn.functional as F\n",
    "from torchvision import datasets,transforms\n",
    "import torch.optim as optim"
   ]
  },
  {
   "cell_type": "code",
   "execution_count": 2,
   "metadata": {},
   "outputs": [],
   "source": [
    "from classification_report import Report, Config, HyperParameters"
   ]
  },
  {
   "cell_type": "markdown",
   "metadata": {},
   "source": [
    "# Hyperparameters"
   ]
  },
  {
   "cell_type": "code",
   "execution_count": 3,
   "metadata": {},
   "outputs": [],
   "source": [
    "h_p = HyperParameters(training_config = Config(batch_size=64 , lr=0.01 , no_epochs=10),\n",
    "                      inference_config = Config(batch_size=64),\n",
    "                      model_config = Config(no_of_channels=10 ,classes = [\"zero\",\"one\",\"two\",\"three\",\"four\",\"five\",\"six\",\"seven\",\"eight\",\"nine\"])\n",
    "                     )\n"
   ]
  },
  {
   "cell_type": "code",
   "execution_count": 4,
   "metadata": {},
   "outputs": [
    {
     "name": "stdout",
     "output_type": "stream",
     "text": [
      "Training batch size 64\n",
      "Number of classes 10\n"
     ]
    }
   ],
   "source": [
    "print(f\"Training batch size {h_p.training_config.batch_size}\")\n",
    "print(f\"Number of classes {h_p.model_config.classes.__len__()}\") "
   ]
  },
  {
   "cell_type": "markdown",
   "metadata": {},
   "source": [
    "# Datasets and Dataloaders"
   ]
  },
  {
   "cell_type": "code",
   "execution_count": 5,
   "metadata": {},
   "outputs": [],
   "source": [
    "transform=transforms.Compose([transforms.ToTensor(),\n",
    "                              transforms.Normalize((0.1307,), (0.3081,))]\n",
    "                            )\n",
    "\n",
    "trainset=datasets.MNIST('~/.pytorch/MNIST_data/',\n",
    "                        train=True,\n",
    "                        transform=transform,\n",
    "                        download=True)\n",
    "\n",
    "validset=datasets.MNIST('~/.pytorch/MNIST_data/',\n",
    "                        train=False,\n",
    "                        transform=transform,\n",
    "                        download=True)\n",
    "\n",
    "train_loader=torch.utils.data.DataLoader(trainset,\n",
    "                                         batch_size=h_p.training_config.batch_size,\n",
    "                                         shuffle=True,\n",
    "                                         num_workers=0)\n",
    "\n",
    "valid_loader=torch.utils.data.DataLoader(validset,\n",
    "                                         batch_size=h_p.inference_config.batch_size,\n",
    "                                         shuffle=True,\n",
    "                                         num_workers=0)"
   ]
  },
  {
   "cell_type": "markdown",
   "metadata": {},
   "source": [
    "# Model Defination"
   ]
  },
  {
   "cell_type": "code",
   "execution_count": 6,
   "metadata": {},
   "outputs": [
    {
     "name": "stdout",
     "output_type": "stream",
     "text": [
      "Net(\n",
      "  (conv1): Conv2d(1, 10, kernel_size=(3, 3), stride=(1, 1))\n",
      "  (fc2): Linear(in_features=640, out_features=10, bias=True)\n",
      ")\n"
     ]
    }
   ],
   "source": [
    "class Net(nn.Module):\n",
    "    def __init__(self):\n",
    "        super(Net, self).__init__()\n",
    "        self.conv1 = nn.Conv2d(1, \n",
    "                               h_p.model_config.no_of_channels,\n",
    "                               3)  #[in_channel,out_channel,filter_size,stride=1]\n",
    "        \n",
    "        self.fc2 = nn.Linear(8*8*h_p.model_config.no_of_channels,\n",
    "                             h_p.model_config.classes.__len__())\n",
    "\n",
    "    def forward(self, x):\n",
    "        x = F.relu(self.conv1(x))\n",
    "        x = F.max_pool2d(x,3)\n",
    "        x = x.view(-1, 8*8*10)\n",
    "        x = self.fc2(x)\n",
    "        return x # return raw logits.\n",
    "      \n",
    "# create a complete CNN\n",
    "model = Net()\n",
    "print(model)"
   ]
  },
  {
   "cell_type": "code",
   "execution_count": 7,
   "metadata": {},
   "outputs": [
    {
     "name": "stdout",
     "output_type": "stream",
     "text": [
      "Total_params 6510\n",
      "Trainable_params 6510\n"
     ]
    }
   ],
   "source": [
    "pytorch_total_params = sum(p.numel() for p in model.parameters())\n",
    "print(\"Total_params\",pytorch_total_params)\n",
    "pytorch_total_params = sum(p.numel() for p in model.parameters() if p.requires_grad)\n",
    "print(\"Trainable_params\",pytorch_total_params)"
   ]
  },
  {
   "cell_type": "markdown",
   "metadata": {},
   "source": [
    "# Report Intialization"
   ]
  },
  {
   "cell_type": "code",
   "execution_count": 8,
   "metadata": {},
   "outputs": [
    {
     "name": "stdout",
     "output_type": "stream",
     "text": [
      "The first input batch shape torch.Size([64, 1, 28, 28])\n"
     ]
    }
   ],
   "source": [
    "data , label = next(iter(train_loader))\n",
    "print(f\"The first input batch shape {data.shape}\")"
   ]
  },
  {
   "cell_type": "code",
   "execution_count": 9,
   "metadata": {},
   "outputs": [
    {
     "data": {
      "text/plain": [
       "<src.report.Report at 0x7f9cf06895c0>"
      ]
     },
     "execution_count": 9,
     "metadata": {},
     "output_type": "execute_result"
    }
   ],
   "source": [
    "report = Report(classes=h_p.model_config.classes) # intialize the class\n",
    "report.plot_model(model, data) # plot model"
   ]
  },
  {
   "cell_type": "markdown",
   "metadata": {},
   "source": [
    "# Criterion and Optimizer"
   ]
  },
  {
   "cell_type": "code",
   "execution_count": 10,
   "metadata": {},
   "outputs": [],
   "source": [
    "criterion = nn.CrossEntropyLoss()\n",
    "optimizer = optim.SGD(model.parameters(), lr=h_p.training_config.lr)"
   ]
  },
  {
   "cell_type": "markdown",
   "metadata": {},
   "source": [
    "# Training Method"
   ]
  },
  {
   "cell_type": "code",
   "execution_count": 11,
   "metadata": {},
   "outputs": [],
   "source": [
    "def train_an_epoch():\n",
    "    model.train()\n",
    "    train_loss = 0.0\n",
    "    for data, target in train_loader:\n",
    "        # clear the gradients of all optimized variables\n",
    "        optimizer.zero_grad()\n",
    "        # forward pass: compute predicted outputs by passing inputs to the model\n",
    "        output = model(data)\n",
    "        # calculate the batch loss\n",
    "        loss = criterion(output, target)\n",
    "        # backward pass: compute gradient of the loss with respect to model parameters\n",
    "        loss.backward()\n",
    "        # perform a single optimization step (parameter update)\n",
    "        optimizer.step()\n",
    "        # update training loss\n",
    "        train_loss += loss.item()*data.size(0)\n",
    "        \n",
    "        # converting raw _logits to softmax output\n",
    "        output = F.softmax(output,dim=-1)\n",
    "        \n",
    "        # write training batch information into report\n",
    "        report.write_a_batch(loss=loss,\n",
    "                             batch_size=data.size(0),\n",
    "                             actual=target,\n",
    "                             prediction=output,\n",
    "                             train=True)\n",
    "        \n",
    "        #plot histogram of model weight, bias and gradients 2 times in an epoch\n",
    "        report.plot_model_data_grad(at_which_iter = len(train_loader)/2)\n",
    "        \n",
    "    return train_loss"
   ]
  },
  {
   "cell_type": "markdown",
   "metadata": {},
   "source": [
    "# Validation Method"
   ]
  },
  {
   "cell_type": "code",
   "execution_count": 12,
   "metadata": {},
   "outputs": [],
   "source": [
    "def valid_an_epoch():\n",
    "        \n",
    "    valid_loss = 0.0\n",
    "    model.eval()\n",
    "    for data, target in valid_loader:\n",
    "        # forward pass: compute predicted outputs by passing inputs to the model\n",
    "        output = model(data)\n",
    "        # calculate the batch loss\n",
    "        loss = criterion(output, target)\n",
    "        # update average validation loss \n",
    "        valid_loss += loss.item()*data.size(0)\n",
    "        \n",
    "        \n",
    "        # converting raw _logits to softmax output\n",
    "        output = F.softmax(output,dim=-1)\n",
    "        \n",
    "        # write validation batch information into report\n",
    "        report.write_a_batch(loss=loss,\n",
    "                             batch_size=data.size(0),\n",
    "                             actual=target,\n",
    "                             prediction=output,\n",
    "                             train=False)\n",
    "    return valid_loss"
   ]
  },
  {
   "cell_type": "markdown",
   "metadata": {},
   "source": [
    "# Training and Plotting"
   ]
  },
  {
   "cell_type": "code",
   "execution_count": 13,
   "metadata": {},
   "outputs": [
    {
     "name": "stdout",
     "output_type": "stream",
     "text": [
      "Epoch: 1 \tTraining Loss: 0.476556 \tValidation Loss: 0.281798\n",
      "Epoch: 2 \tTraining Loss: 0.266338 \tValidation Loss: 0.215414\n",
      "Epoch: 3 \tTraining Loss: 0.207621 \tValidation Loss: 0.174787\n",
      "Epoch: 4 \tTraining Loss: 0.168733 \tValidation Loss: 0.145775\n",
      "Epoch: 5 \tTraining Loss: 0.143169 \tValidation Loss: 0.125264\n",
      "Epoch: 6 \tTraining Loss: 0.124155 \tValidation Loss: 0.107546\n",
      "Epoch: 7 \tTraining Loss: 0.111645 \tValidation Loss: 0.096930\n",
      "Epoch: 8 \tTraining Loss: 0.102040 \tValidation Loss: 0.090832\n",
      "Epoch: 9 \tTraining Loss: 0.094731 \tValidation Loss: 0.084824\n",
      "Epoch: 10 \tTraining Loss: 0.089033 \tValidation Loss: 0.079835\n"
     ]
    }
   ],
   "source": [
    "for epoch in range(1, h_p.training_config.no_epochs+1):\n",
    "\n",
    "    train_loss = train_an_epoch()\n",
    "    valid_loss = valid_an_epoch()\n",
    "    \n",
    "    train_loss = train_loss/len(train_loader.sampler)\n",
    "    valid_loss = valid_loss/len(valid_loader.sampler)\n",
    "        \n",
    "    # print training/validation statistics \n",
    "    print(f'Epoch: {epoch} \\tTraining Loss: {train_loss:.6f} \\tValidation Loss: {valid_loss:.6f}')\n",
    "    \n",
    "    report.plot_an_epoch() # plot after every epoch\n"
   ]
  },
  {
   "cell_type": "markdown",
   "metadata": {},
   "source": [
    "# Plot Hyperparams"
   ]
  },
  {
   "cell_type": "code",
   "execution_count": 14,
   "metadata": {},
   "outputs": [
    {
     "data": {
      "text/plain": [
       "<src.report.Report at 0x7f9cf06895c0>"
      ]
     },
     "execution_count": 14,
     "metadata": {},
     "output_type": "execute_result"
    }
   ],
   "source": [
    "report.plot_hparams(h_p) # record hyper params once training is completed"
   ]
  },
  {
   "cell_type": "markdown",
   "metadata": {},
   "source": [
    "#    Last Epoch Statistics"
   ]
  },
  {
   "cell_type": "code",
   "execution_count": 15,
   "metadata": {},
   "outputs": [
    {
     "data": {
      "text/plain": [
       "{'train': 0.08903284033934275, 'valid': 0.07983549206852913}"
      ]
     },
     "execution_count": 15,
     "metadata": {},
     "output_type": "execute_result"
    }
   ],
   "source": [
    "report.loss_count # final loss for 10th epoch "
   ]
  },
  {
   "cell_type": "code",
   "execution_count": 16,
   "metadata": {},
   "outputs": [
    {
     "data": {
      "text/plain": [
       "{'train': {'actual': array([2, 9, 6, ..., 6, 5, 6]),\n",
       "  'pred': array([[2.5042798e-05, 6.5744323e-05, 9.3698359e-01, ..., 1.9802920e-04,\n",
       "          7.8922687e-03, 5.7031157e-05],\n",
       "         [1.9366228e-06, 7.1479769e-09, 2.3671055e-05, ..., 1.6210197e-03,\n",
       "          4.4759642e-04, 9.9449807e-01],\n",
       "         [1.1239527e-05, 1.0241215e-03, 3.8109050e-05, ..., 5.5505899e-07,\n",
       "          9.4072195e-04, 1.0471222e-06],\n",
       "         ...,\n",
       "         [1.8088377e-04, 2.5010223e-07, 1.9928522e-03, ..., 4.1664250e-09,\n",
       "          7.3243369e-05, 6.3713242e-06],\n",
       "         [6.4380409e-08, 1.2906545e-08, 3.9848260e-08, ..., 1.0480987e-06,\n",
       "          1.3894854e-04, 2.0053969e-05],\n",
       "         [2.9811055e-05, 4.6260371e-05, 1.6806077e-04, ..., 2.0354689e-07,\n",
       "          2.0149567e-04, 3.4741282e-07]], dtype=float32)},\n",
       " 'valid': {'actual': array([2, 5, 0, ..., 9, 7, 2]),\n",
       "  'pred': array([[3.0130930e-05, 3.4288573e-07, 9.8805797e-01, ..., 2.2048336e-07,\n",
       "          1.1788650e-02, 5.2077816e-05],\n",
       "         [6.5836525e-07, 4.3492469e-07, 5.3571730e-06, ..., 1.3127625e-10,\n",
       "          5.6544237e-04, 2.5889382e-05],\n",
       "         [9.9983728e-01, 6.7495082e-10, 3.7134569e-06, ..., 6.4475273e-07,\n",
       "          3.0042151e-05, 5.3802232e-06],\n",
       "         ...,\n",
       "         [1.1358140e-05, 7.4179041e-01, 8.1379570e-05, ..., 2.3708886e-03,\n",
       "          8.1199996e-02, 1.4234614e-01],\n",
       "         [2.2316819e-08, 1.0152613e-05, 6.7712266e-05, ..., 9.9865854e-01,\n",
       "          1.4402324e-06, 1.7735109e-04],\n",
       "         [2.9536390e-05, 1.0885417e-08, 9.9994874e-01, ..., 3.6915412e-11,\n",
       "          1.0401882e-05, 1.1636545e-08]], dtype=float32)}}"
      ]
     },
     "execution_count": 16,
     "metadata": {},
     "output_type": "execute_result"
    }
   ],
   "source": [
    "report.act_pred_dict # actual and prediction for 10th epoch"
   ]
  },
  {
   "cell_type": "code",
   "execution_count": 17,
   "metadata": {},
   "outputs": [
    {
     "data": {
      "text/plain": [
       "10"
      ]
     },
     "execution_count": 17,
     "metadata": {},
     "output_type": "execute_result"
    }
   ],
   "source": [
    "report.counter # number of epoch"
   ]
  },
  {
   "cell_type": "code",
   "execution_count": 18,
   "metadata": {},
   "outputs": [
    {
     "data": {
      "text/plain": [
       "Counter({'train': 9380, 'valid': 1570})"
      ]
     },
     "execution_count": 18,
     "metadata": {},
     "output_type": "execute_result"
    }
   ],
   "source": [
    "report.iter_count # train_loader and valid_loader size"
   ]
  },
  {
   "cell_type": "code",
   "execution_count": 19,
   "metadata": {},
   "outputs": [
    {
     "data": {
      "text/plain": [
       "Counter({'train': 60000, 'valid': 10000})"
      ]
     },
     "execution_count": 19,
     "metadata": {},
     "output_type": "execute_result"
    }
   ],
   "source": [
    "report.data_count # data point count"
   ]
  },
  {
   "cell_type": "code",
   "execution_count": 20,
   "metadata": {},
   "outputs": [
    {
     "data": {
      "text/plain": [
       "Counter({'train': 0.9719173510233347, 'valid': 0.973886044489139})"
      ]
     },
     "execution_count": 20,
     "metadata": {},
     "output_type": "execute_result"
    }
   ],
   "source": [
    "report.mcc # Mathews correlation coefficient for 10th epoch"
   ]
  },
  {
   "cell_type": "code",
   "execution_count": 21,
   "metadata": {},
   "outputs": [],
   "source": [
    "report.close() # close the writer object."
   ]
  },
  {
   "cell_type": "code",
   "execution_count": null,
   "metadata": {},
   "outputs": [],
   "source": []
  }
 ],
 "metadata": {
  "kernelspec": {
   "display_name": "Python 3",
   "language": "python",
   "name": "python3"
  },
  "language_info": {
   "codemirror_mode": {
    "name": "ipython",
    "version": 3
   },
   "file_extension": ".py",
   "mimetype": "text/x-python",
   "name": "python",
   "nbconvert_exporter": "python",
   "pygments_lexer": "ipython3",
   "version": "3.6.9"
  }
 },
 "nbformat": 4,
 "nbformat_minor": 4
}
